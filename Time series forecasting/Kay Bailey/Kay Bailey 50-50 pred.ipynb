{
 "cells": [
  {
   "cell_type": "code",
   "execution_count": 1,
   "id": "a543ecfd",
   "metadata": {},
   "outputs": [],
   "source": [
    "import pandas as pd\n",
    "import numpy as np\n",
    "import matplotlib.pyplot as plt\n",
    "import seaborn as sns\n",
    "import plotly.express as px\n",
    "import plotly.graph_objects as go\n",
    "import folium\n",
    "from scipy.stats import pearsonr\n",
    "from folium import plugins\n",
    "from folium.plugins import HeatMap\n",
    "from folium.plugins import HeatMapWithTime\n",
    "import calendar\n",
    "from matplotlib.ticker import FuncFormatter\n",
    "import datetime\n",
    "import joblib\n",
    "import xgboost as xgb\n",
    "import sklearn\n",
    "from sklearn.model_selection import train_test_split\n",
    "from sklearn.metrics import mean_squared_error\n",
    "from sklearn.metrics import mean_absolute_error\n",
    "from sklearn.model_selection import RandomizedSearchCV\n",
    "from sklearn.model_selection import train_test_split\n",
    "import statsmodels\n",
    "from statsmodels.tsa.stattools import adfuller\n",
    "from statsmodels.tsa.seasonal import seasonal_decompose\n",
    "from statsmodels.tsa.arima_model import ARIMA\n",
    "from statsmodels.graphics.tsaplots import plot_acf, plot_pacf"
   ]
  },
  {
   "cell_type": "code",
   "execution_count": 2,
   "id": "85f4f4c3",
   "metadata": {},
   "outputs": [
    {
     "data": {
      "text/html": [
       "<div>\n",
       "<style scoped>\n",
       "    .dataframe tbody tr th:only-of-type {\n",
       "        vertical-align: middle;\n",
       "    }\n",
       "\n",
       "    .dataframe tbody tr th {\n",
       "        vertical-align: top;\n",
       "    }\n",
       "\n",
       "    .dataframe thead th {\n",
       "        text-align: right;\n",
       "    }\n",
       "</style>\n",
       "<table border=\"1\" class=\"dataframe\">\n",
       "  <thead>\n",
       "    <tr style=\"text-align: right;\">\n",
       "      <th></th>\n",
       "      <th>Year</th>\n",
       "      <th>Month</th>\n",
       "      <th>Date</th>\n",
       "      <th>Airport Wells</th>\n",
       "      <th>Gal Units1</th>\n",
       "      <th>Total Flow1</th>\n",
       "      <th>Ft. Bliss Wells</th>\n",
       "      <th>Gal Units2</th>\n",
       "      <th>Total Flow2</th>\n",
       "      <th>Concentrate</th>\n",
       "      <th>Gal Units3</th>\n",
       "      <th>Total Flow3</th>\n",
       "      <th>Finished Water</th>\n",
       "      <th>Gal Units4</th>\n",
       "      <th>Total Flow4</th>\n",
       "      <th>CL2</th>\n",
       "    </tr>\n",
       "  </thead>\n",
       "  <tbody>\n",
       "    <tr>\n",
       "      <th>0</th>\n",
       "      <td>2018</td>\n",
       "      <td>January</td>\n",
       "      <td>1</td>\n",
       "      <td>752138</td>\n",
       "      <td>7226</td>\n",
       "      <td>7.226</td>\n",
       "      <td>667672</td>\n",
       "      <td>2288</td>\n",
       "      <td>2.288</td>\n",
       "      <td>5180688</td>\n",
       "      <td>1276.0</td>\n",
       "      <td>1.276</td>\n",
       "      <td>577652</td>\n",
       "      <td>8365</td>\n",
       "      <td>8.365</td>\n",
       "      <td>1.34</td>\n",
       "    </tr>\n",
       "    <tr>\n",
       "      <th>1</th>\n",
       "      <td>2018</td>\n",
       "      <td>January</td>\n",
       "      <td>2</td>\n",
       "      <td>759308</td>\n",
       "      <td>7170</td>\n",
       "      <td>7.170</td>\n",
       "      <td>669948</td>\n",
       "      <td>2276</td>\n",
       "      <td>2.276</td>\n",
       "      <td>5181946</td>\n",
       "      <td>1258.0</td>\n",
       "      <td>1.258</td>\n",
       "      <td>585965</td>\n",
       "      <td>8313</td>\n",
       "      <td>8.313</td>\n",
       "      <td>1.31</td>\n",
       "    </tr>\n",
       "    <tr>\n",
       "      <th>2</th>\n",
       "      <td>2018</td>\n",
       "      <td>January</td>\n",
       "      <td>3</td>\n",
       "      <td>766545</td>\n",
       "      <td>7237</td>\n",
       "      <td>7.237</td>\n",
       "      <td>672235</td>\n",
       "      <td>2287</td>\n",
       "      <td>2.287</td>\n",
       "      <td>5183231</td>\n",
       "      <td>1285.0</td>\n",
       "      <td>1.285</td>\n",
       "      <td>594306</td>\n",
       "      <td>8341</td>\n",
       "      <td>8.341</td>\n",
       "      <td>1.31</td>\n",
       "    </tr>\n",
       "    <tr>\n",
       "      <th>3</th>\n",
       "      <td>2018</td>\n",
       "      <td>January</td>\n",
       "      <td>4</td>\n",
       "      <td>773753</td>\n",
       "      <td>7208</td>\n",
       "      <td>7.208</td>\n",
       "      <td>674512</td>\n",
       "      <td>2277</td>\n",
       "      <td>2.277</td>\n",
       "      <td>5184502</td>\n",
       "      <td>1271.0</td>\n",
       "      <td>1.271</td>\n",
       "      <td>602624</td>\n",
       "      <td>8318</td>\n",
       "      <td>8.318</td>\n",
       "      <td>1.32</td>\n",
       "    </tr>\n",
       "    <tr>\n",
       "      <th>4</th>\n",
       "      <td>2018</td>\n",
       "      <td>January</td>\n",
       "      <td>5</td>\n",
       "      <td>780945</td>\n",
       "      <td>7192</td>\n",
       "      <td>7.192</td>\n",
       "      <td>676795</td>\n",
       "      <td>2283</td>\n",
       "      <td>2.283</td>\n",
       "      <td>5185769</td>\n",
       "      <td>1267.0</td>\n",
       "      <td>1.267</td>\n",
       "      <td>610943</td>\n",
       "      <td>8319</td>\n",
       "      <td>8.319</td>\n",
       "      <td>1.31</td>\n",
       "    </tr>\n",
       "  </tbody>\n",
       "</table>\n",
       "</div>"
      ],
      "text/plain": [
       "   Year    Month  Date  Airport Wells   Gal Units1  Total Flow1  \\\n",
       "0  2018  January     1          752138        7226        7.226   \n",
       "1  2018  January     2          759308        7170        7.170   \n",
       "2  2018  January     3          766545        7237        7.237   \n",
       "3  2018  January     4          773753        7208        7.208   \n",
       "4  2018  January     5          780945        7192        7.192   \n",
       "\n",
       "   Ft. Bliss Wells   Gal Units2  Total Flow2  Concentrate  Gal Units3  \\\n",
       "0            667672        2288        2.288      5180688      1276.0   \n",
       "1            669948        2276        2.276      5181946      1258.0   \n",
       "2            672235        2287        2.287      5183231      1285.0   \n",
       "3            674512        2277        2.277      5184502      1271.0   \n",
       "4            676795        2283        2.283      5185769      1267.0   \n",
       "\n",
       "   Total Flow3 Finished Water  Gal Units4  Total Flow4   CL2  \n",
       "0        1.276         577652        8365        8.365  1.34  \n",
       "1        1.258         585965        8313        8.313  1.31  \n",
       "2        1.285         594306        8341        8.341  1.31  \n",
       "3        1.271         602624        8318        8.318  1.32  \n",
       "4        1.267         610943        8319        8.319  1.31  "
      ]
     },
     "execution_count": 2,
     "metadata": {},
     "output_type": "execute_result"
    }
   ],
   "source": [
    "flow = pd.read_excel('Kay Bailey.xlsx')\n",
    "\n",
    "flow.head()"
   ]
  },
  {
   "cell_type": "code",
   "execution_count": 3,
   "id": "856d52a5",
   "metadata": {},
   "outputs": [
    {
     "name": "stdout",
     "output_type": "stream",
     "text": [
      "Data types of each column in the in predictors DataFrame:\n",
      "Year                  int64\n",
      "Month                object\n",
      "Date                  int64\n",
      "Airport Wells         int64\n",
      "Gal Units1            int64\n",
      "Total Flow1         float64\n",
      "Ft. Bliss Wells       int64\n",
      "Gal Units2            int64\n",
      "Total Flow2         float64\n",
      "Concentrate           int64\n",
      "Gal Units3          float64\n",
      "Total Flow3         float64\n",
      "Finished Water       object\n",
      "Gal Units4            int64\n",
      "Total Flow4         float64\n",
      "CL2                 float64\n",
      "dtype: object\n"
     ]
    }
   ],
   "source": [
    "column_data_types = flow.dtypes\n",
    "\n",
    "# Print the data types\n",
    "print(\"Data types of each column in the in predictors DataFrame:\")\n",
    "print(column_data_types)"
   ]
  },
  {
   "cell_type": "code",
   "execution_count": 4,
   "id": "298da5c2",
   "metadata": {},
   "outputs": [
    {
     "data": {
      "text/html": [
       "<div>\n",
       "<style scoped>\n",
       "    .dataframe tbody tr th:only-of-type {\n",
       "        vertical-align: middle;\n",
       "    }\n",
       "\n",
       "    .dataframe tbody tr th {\n",
       "        vertical-align: top;\n",
       "    }\n",
       "\n",
       "    .dataframe thead th {\n",
       "        text-align: right;\n",
       "    }\n",
       "</style>\n",
       "<table border=\"1\" class=\"dataframe\">\n",
       "  <thead>\n",
       "    <tr style=\"text-align: right;\">\n",
       "      <th></th>\n",
       "      <th>Year</th>\n",
       "      <th>Month</th>\n",
       "      <th>KWH</th>\n",
       "      <th>Billed $</th>\n",
       "      <th>$/KWH</th>\n",
       "      <th>Water Kgal</th>\n",
       "      <th>KWH/Kgal</th>\n",
       "      <th>E Billed per Kgal</th>\n",
       "    </tr>\n",
       "  </thead>\n",
       "  <tbody>\n",
       "    <tr>\n",
       "      <th>0</th>\n",
       "      <td>2017</td>\n",
       "      <td>Jan</td>\n",
       "      <td>408581.0</td>\n",
       "      <td>30450.81</td>\n",
       "      <td>0.074528</td>\n",
       "      <td>130239.0</td>\n",
       "      <td>3.137163</td>\n",
       "      <td>0.233807</td>\n",
       "    </tr>\n",
       "    <tr>\n",
       "      <th>1</th>\n",
       "      <td>2017</td>\n",
       "      <td>Feb</td>\n",
       "      <td>384347.0</td>\n",
       "      <td>28710.77</td>\n",
       "      <td>0.074700</td>\n",
       "      <td>118555.0</td>\n",
       "      <td>3.241930</td>\n",
       "      <td>0.242173</td>\n",
       "    </tr>\n",
       "    <tr>\n",
       "      <th>2</th>\n",
       "      <td>2017</td>\n",
       "      <td>Mar</td>\n",
       "      <td>637308.0</td>\n",
       "      <td>46868.25</td>\n",
       "      <td>0.073541</td>\n",
       "      <td>195349.0</td>\n",
       "      <td>3.262407</td>\n",
       "      <td>0.239921</td>\n",
       "    </tr>\n",
       "    <tr>\n",
       "      <th>3</th>\n",
       "      <td>2017</td>\n",
       "      <td>Apr</td>\n",
       "      <td>769057.0</td>\n",
       "      <td>56103.62</td>\n",
       "      <td>0.072951</td>\n",
       "      <td>217626.0</td>\n",
       "      <td>3.533847</td>\n",
       "      <td>0.257798</td>\n",
       "    </tr>\n",
       "    <tr>\n",
       "      <th>4</th>\n",
       "      <td>2017</td>\n",
       "      <td>May</td>\n",
       "      <td>794757.0</td>\n",
       "      <td>58179.68</td>\n",
       "      <td>0.073204</td>\n",
       "      <td>271849.0</td>\n",
       "      <td>2.923524</td>\n",
       "      <td>0.214015</td>\n",
       "    </tr>\n",
       "  </tbody>\n",
       "</table>\n",
       "</div>"
      ],
      "text/plain": [
       "   Year Month       KWH  Billed $     $/KWH  Water Kgal  KWH/Kgal  \\\n",
       "0  2017  Jan   408581.0  30450.81  0.074528    130239.0  3.137163   \n",
       "1  2017  Feb   384347.0  28710.77  0.074700    118555.0  3.241930   \n",
       "2  2017   Mar  637308.0  46868.25  0.073541    195349.0  3.262407   \n",
       "3  2017   Apr  769057.0  56103.62  0.072951    217626.0  3.533847   \n",
       "4  2017   May  794757.0  58179.68  0.073204    271849.0  2.923524   \n",
       "\n",
       "   E Billed per Kgal  \n",
       "0           0.233807  \n",
       "1           0.242173  \n",
       "2           0.239921  \n",
       "3           0.257798  \n",
       "4           0.214015  "
      ]
     },
     "execution_count": 4,
     "metadata": {},
     "output_type": "execute_result"
    }
   ],
   "source": [
    "energy= pd.read_excel('KBH 071923 RQT 2.xlsx')\n",
    "\n",
    "energy.head()"
   ]
  },
  {
   "cell_type": "code",
   "execution_count": 5,
   "id": "57172c8a",
   "metadata": {},
   "outputs": [
    {
     "name": "stdout",
     "output_type": "stream",
     "text": [
      "Data types of each column in the in predictors DataFrame:\n",
      "Year                   int64\n",
      "Month                 object\n",
      "KWH                  float64\n",
      "Billed $             float64\n",
      "$/KWH                float64\n",
      "Water Kgal           float64\n",
      "KWH/Kgal             float64\n",
      "E Billed per Kgal    float64\n",
      "dtype: object\n"
     ]
    }
   ],
   "source": [
    "column_data_types = energy.dtypes\n",
    "\n",
    "# Print the data types\n",
    "print(\"Data types of each column in the in predictors DataFrame:\")\n",
    "print(column_data_types)"
   ]
  },
  {
   "cell_type": "code",
   "execution_count": 6,
   "id": "f380f26e",
   "metadata": {},
   "outputs": [],
   "source": [
    "# Convert Month, Day, and Year columns to a datetime format\n",
    "flow['Date'] = pd.to_datetime(flow['Year'].astype(str) + '-' + flow['Month'].astype(str) + '-' + flow['Date'].astype(str), errors='coerce')"
   ]
  },
  {
   "cell_type": "code",
   "execution_count": 7,
   "id": "42641ce4",
   "metadata": {},
   "outputs": [],
   "source": [
    "# Create 'Date' column from 'Year' and 'Month'\n",
    "energy['Date'] = pd.to_datetime(energy['Year'].astype(str) + '-' + energy['Month'] + '-01')"
   ]
  },
  {
   "cell_type": "code",
   "execution_count": 8,
   "id": "9c902618",
   "metadata": {},
   "outputs": [
    {
     "name": "stdout",
     "output_type": "stream",
     "text": [
      "Missing values in each column before removal:\n",
      "Year                0\n",
      "Month               0\n",
      "Date                0\n",
      "Airport Wells       0\n",
      "Gal Units1          0\n",
      "Total Flow1         0\n",
      "Ft. Bliss Wells     0\n",
      "Gal Units2          0\n",
      "Total Flow2         0\n",
      "Concentrate         0\n",
      "Gal Units3          0\n",
      "Total Flow3         0\n",
      "Finished Water      0\n",
      "Gal Units4          0\n",
      "Total Flow4         0\n",
      "CL2                 0\n",
      "dtype: int64\n"
     ]
    }
   ],
   "source": [
    "# Check for missing values in each column of flow_data\n",
    "missing_values = flow.isna().sum()\n",
    "print(\"Missing values in each column before removal:\")\n",
    "print(missing_values)"
   ]
  },
  {
   "cell_type": "code",
   "execution_count": 9,
   "id": "5e291f8f",
   "metadata": {},
   "outputs": [
    {
     "name": "stdout",
     "output_type": "stream",
     "text": [
      "Missing values in each column before removal:\n",
      "Year                 0\n",
      "Month                0\n",
      "KWH                  0\n",
      "Billed $             0\n",
      "$/KWH                1\n",
      "Water Kgal           2\n",
      "KWH/Kgal             2\n",
      "E Billed per Kgal    3\n",
      "Date                 0\n",
      "dtype: int64\n"
     ]
    }
   ],
   "source": [
    "# Check for missing values in each column of flow_data\n",
    "missing_values = energy.isna().sum()\n",
    "print(\"Missing values in each column before removal:\")\n",
    "print(missing_values)"
   ]
  },
  {
   "cell_type": "code",
   "execution_count": 10,
   "id": "7cc62507",
   "metadata": {},
   "outputs": [
    {
     "name": "stdout",
     "output_type": "stream",
     "text": [
      "Year                 0\n",
      "Month                0\n",
      "KWH                  0\n",
      "Billed $             0\n",
      "$/KWH                0\n",
      "Water Kgal           0\n",
      "KWH/Kgal             0\n",
      "E Billed per Kgal    0\n",
      "Date                 0\n",
      "dtype: int64\n"
     ]
    }
   ],
   "source": [
    "# Filling missing values\n",
    "\n",
    "# For '/KWH' column, we'll fill with the mean\n",
    "energy['$/KWH'].fillna(energy['$/KWH'].mean(), inplace=True)\n",
    "\n",
    "# For 'Water Kgal' column, we'll fill with the mean\n",
    "energy['Water Kgal'].fillna(energy['Water Kgal'].mean(), inplace=True)\n",
    "\n",
    "# For 'KWH/Kgal' column, we'll fill with the mean\n",
    "energy['KWH/Kgal'].fillna(energy['KWH/Kgal'].mean(), inplace=True)\n",
    "\n",
    "# For 'E Billed per Kgal' column, we'll fill with the mean\n",
    "energy['E Billed per Kgal'].fillna(energy['E Billed per Kgal'].mean(), inplace=True)\n",
    "\n",
    "# Checking if all missing values are filled\n",
    "print(energy.isnull().sum())"
   ]
  },
  {
   "cell_type": "code",
   "execution_count": 11,
   "id": "cbfad4fb",
   "metadata": {},
   "outputs": [],
   "source": [
    "flow = pd.get_dummies(flow, columns=['Month'], drop_first=True)"
   ]
  },
  {
   "cell_type": "code",
   "execution_count": 12,
   "id": "fe03868b",
   "metadata": {},
   "outputs": [],
   "source": [
    "energy = pd.get_dummies(energy, columns=['Month'], drop_first=True)"
   ]
  },
  {
   "cell_type": "code",
   "execution_count": 13,
   "id": "fb10abd3",
   "metadata": {},
   "outputs": [
    {
     "name": "stdout",
     "output_type": "stream",
     "text": [
      "Data types of each column in the in predictors DataFrame:\n",
      "Year                         int64\n",
      "Date                datetime64[ns]\n",
      "Airport Wells                int64\n",
      "Gal Units1                   int64\n",
      "Total Flow1                float64\n",
      "Ft. Bliss Wells              int64\n",
      "Gal Units2                   int64\n",
      "Total Flow2                float64\n",
      "Concentrate                  int64\n",
      "Gal Units3                 float64\n",
      "Total Flow3                float64\n",
      "Finished Water              object\n",
      "Gal Units4                   int64\n",
      "Total Flow4                float64\n",
      "CL2                        float64\n",
      "Month_August                 uint8\n",
      "Month_December               uint8\n",
      "Month_February               uint8\n",
      "Month_January                uint8\n",
      "Month_July                   uint8\n",
      "Month_June                   uint8\n",
      "Month_March                  uint8\n",
      "Month_May                    uint8\n",
      "Month_November               uint8\n",
      "Month_October                uint8\n",
      "Month_September              uint8\n",
      "dtype: object\n"
     ]
    }
   ],
   "source": [
    "column_data_types = flow.dtypes\n",
    "\n",
    "# Print the data types\n",
    "print(\"Data types of each column in the in predictors DataFrame:\")\n",
    "print(column_data_types)"
   ]
  },
  {
   "cell_type": "code",
   "execution_count": 14,
   "id": "4554f26c",
   "metadata": {},
   "outputs": [
    {
     "name": "stdout",
     "output_type": "stream",
     "text": [
      "Data types of each column in the in predictors DataFrame:\n",
      "Year                          int64\n",
      "KWH                         float64\n",
      "Billed $                    float64\n",
      "$/KWH                       float64\n",
      "Water Kgal                  float64\n",
      "KWH/Kgal                    float64\n",
      "E Billed per Kgal           float64\n",
      "Date                 datetime64[ns]\n",
      "Month_Aug                     uint8\n",
      "Month_Dec                     uint8\n",
      "Month_Feb                     uint8\n",
      "Month_Feb                     uint8\n",
      "Month_Jan                     uint8\n",
      "Month_Jan                     uint8\n",
      "Month_Jul                     uint8\n",
      "Month_Jun                     uint8\n",
      "Month_Mar                     uint8\n",
      "Month_May                     uint8\n",
      "Month_Nov                     uint8\n",
      "Month_Oct                     uint8\n",
      "Month_Sep                     uint8\n",
      "dtype: object\n"
     ]
    }
   ],
   "source": [
    "column_data_types = energy.dtypes\n",
    "\n",
    "# Print the data types\n",
    "print(\"Data types of each column in the in predictors DataFrame:\")\n",
    "print(column_data_types)"
   ]
  },
  {
   "cell_type": "code",
   "execution_count": 15,
   "id": "48d81d56",
   "metadata": {},
   "outputs": [],
   "source": [
    "def convert_to_numeric(column):\n",
    "    \"\"\"Convert a column to numeric, non-numeric becomes NaN.\"\"\"\n",
    "    return pd.to_numeric(column, errors='coerce')\n",
    "\n",
    "# Apply this function to every column in flow\n",
    "for col in flow.columns:\n",
    "    if flow[col].dtype == 'object':\n",
    "        flow[col] = convert_to_numeric(flow[col])"
   ]
  },
  {
   "cell_type": "code",
   "execution_count": 16,
   "id": "4e4bf10f",
   "metadata": {},
   "outputs": [
    {
     "name": "stdout",
     "output_type": "stream",
     "text": [
      "Data types of each column in the in predictors DataFrame:\n",
      "Year                         int64\n",
      "Date                datetime64[ns]\n",
      "Airport Wells                int64\n",
      "Gal Units1                   int64\n",
      "Total Flow1                float64\n",
      "Ft. Bliss Wells              int64\n",
      "Gal Units2                   int64\n",
      "Total Flow2                float64\n",
      "Concentrate                  int64\n",
      "Gal Units3                 float64\n",
      "Total Flow3                float64\n",
      "Finished Water             float64\n",
      "Gal Units4                   int64\n",
      "Total Flow4                float64\n",
      "CL2                        float64\n",
      "Month_August                 uint8\n",
      "Month_December               uint8\n",
      "Month_February               uint8\n",
      "Month_January                uint8\n",
      "Month_July                   uint8\n",
      "Month_June                   uint8\n",
      "Month_March                  uint8\n",
      "Month_May                    uint8\n",
      "Month_November               uint8\n",
      "Month_October                uint8\n",
      "Month_September              uint8\n",
      "dtype: object\n"
     ]
    }
   ],
   "source": [
    "column_data_types = flow.dtypes\n",
    "\n",
    "# Print the data types\n",
    "print(\"Data types of each column in the in predictors DataFrame:\")\n",
    "print(column_data_types)"
   ]
  },
  {
   "cell_type": "code",
   "execution_count": 17,
   "id": "9562b20b",
   "metadata": {},
   "outputs": [
    {
     "name": "stdout",
     "output_type": "stream",
     "text": [
      "Missing values in each column before removal:\n",
      "Year                0\n",
      "Date                0\n",
      "Airport Wells       0\n",
      "Gal Units1          0\n",
      "Total Flow1         0\n",
      "Ft. Bliss Wells     0\n",
      "Gal Units2          0\n",
      "Total Flow2         0\n",
      "Concentrate         0\n",
      "Gal Units3          0\n",
      "Total Flow3         0\n",
      "Finished Water      1\n",
      "Gal Units4          0\n",
      "Total Flow4         0\n",
      "CL2                 0\n",
      "Month_August        0\n",
      "Month_December      0\n",
      "Month_February      0\n",
      "Month_January       0\n",
      "Month_July          0\n",
      "Month_June          0\n",
      "Month_March         0\n",
      "Month_May           0\n",
      "Month_November      0\n",
      "Month_October       0\n",
      "Month_September     0\n",
      "dtype: int64\n"
     ]
    }
   ],
   "source": [
    "# Check for missing values in each column of flow_data\n",
    "missing_values = flow.isna().sum()\n",
    "print(\"Missing values in each column before removal:\")\n",
    "print(missing_values)"
   ]
  },
  {
   "cell_type": "code",
   "execution_count": 18,
   "id": "a900447a",
   "metadata": {},
   "outputs": [],
   "source": [
    "# Example: Fill missing values using forward fill method\n",
    "flow.fillna(method='ffill', inplace=True)"
   ]
  },
  {
   "cell_type": "code",
   "execution_count": 19,
   "id": "f939ef8d",
   "metadata": {},
   "outputs": [
    {
     "name": "stdout",
     "output_type": "stream",
     "text": [
      "Missing values in each column before removal:\n",
      "Year                0\n",
      "Date                0\n",
      "Airport Wells       0\n",
      "Gal Units1          0\n",
      "Total Flow1         0\n",
      "Ft. Bliss Wells     0\n",
      "Gal Units2          0\n",
      "Total Flow2         0\n",
      "Concentrate         0\n",
      "Gal Units3          0\n",
      "Total Flow3         0\n",
      "Finished Water      0\n",
      "Gal Units4          0\n",
      "Total Flow4         0\n",
      "CL2                 0\n",
      "Month_August        0\n",
      "Month_December      0\n",
      "Month_February      0\n",
      "Month_January       0\n",
      "Month_July          0\n",
      "Month_June          0\n",
      "Month_March         0\n",
      "Month_May           0\n",
      "Month_November      0\n",
      "Month_October       0\n",
      "Month_September     0\n",
      "dtype: int64\n"
     ]
    }
   ],
   "source": [
    "# Check for missing values in each column of flow_data\n",
    "missing_values = flow.isna().sum()\n",
    "print(\"Missing values in each column before removal:\")\n",
    "print(missing_values)"
   ]
  },
  {
   "cell_type": "code",
   "execution_count": 20,
   "id": "9399c01e",
   "metadata": {},
   "outputs": [
    {
     "name": "stdout",
     "output_type": "stream",
     "text": [
      "Index(['Year', 'Date', 'Airport Wells ', 'Gal Units1', 'Total Flow1',\n",
      "       'Ft. Bliss Wells ', 'Gal Units2', 'Total Flow2', 'Concentrate',\n",
      "       'Gal Units3', 'Total Flow3', 'Finished Water', 'Gal Units4',\n",
      "       'Total Flow4', 'CL2', 'Month_August', 'Month_December',\n",
      "       'Month_February', 'Month_January', 'Month_July', 'Month_June',\n",
      "       'Month_March', 'Month_May', 'Month_November', 'Month_October',\n",
      "       'Month_September'],\n",
      "      dtype='object')\n"
     ]
    }
   ],
   "source": [
    "print(flow.columns)"
   ]
  },
  {
   "cell_type": "code",
   "execution_count": 21,
   "id": "8608dad6",
   "metadata": {},
   "outputs": [
    {
     "name": "stdout",
     "output_type": "stream",
     "text": [
      "Data types of each column in the in predictors DataFrame:\n",
      "Year                         int64\n",
      "Date                datetime64[ns]\n",
      "Airport Wells                int64\n",
      "Gal Units1                   int64\n",
      "Total Flow1                float64\n",
      "Ft. Bliss Wells              int64\n",
      "Gal Units2                   int64\n",
      "Total Flow2                float64\n",
      "Concentrate                  int64\n",
      "Gal Units3                 float64\n",
      "Total Flow3                float64\n",
      "Finished Water             float64\n",
      "Gal Units4                   int64\n",
      "Total Flow4                float64\n",
      "CL2                        float64\n",
      "Month_August                 uint8\n",
      "Month_December               uint8\n",
      "Month_February               uint8\n",
      "Month_January                uint8\n",
      "Month_July                   uint8\n",
      "Month_June                   uint8\n",
      "Month_March                  uint8\n",
      "Month_May                    uint8\n",
      "Month_November               uint8\n",
      "Month_October                uint8\n",
      "Month_September              uint8\n",
      "dtype: object\n"
     ]
    }
   ],
   "source": [
    "column_data_types = flow.dtypes\n",
    "\n",
    "# Print the data types\n",
    "print(\"Data types of each column in the in predictors DataFrame:\")\n",
    "print(column_data_types)"
   ]
  },
  {
   "cell_type": "code",
   "execution_count": 22,
   "id": "ed6b0bc5",
   "metadata": {},
   "outputs": [],
   "source": [
    "# Removing outliers beyond 99th percentile\n",
    "for col in ['KWH']:\n",
    "    cap = energy[col].quantile(0.99)\n",
    "    energy = energy[energy[col] <= cap]"
   ]
  },
  {
   "cell_type": "code",
   "execution_count": 23,
   "id": "d1730036",
   "metadata": {},
   "outputs": [
    {
     "name": "stdout",
     "output_type": "stream",
     "text": [
      "   Year       Date  Airport Wells   Gal Units1  Total Flow1  Ft. Bliss Wells   \\\n",
      "3  2018 2018-01-04          773753        7208        7.208            674512   \n",
      "4  2018 2018-01-05          780945        7192        7.192            676795   \n",
      "5  2018 2018-01-06          788130        7185        7.185            679076   \n",
      "6  2018 2018-01-07          795297        7167        7.167            681355   \n",
      "7  2018 2018-01-08          802438        7141        7.141            683630   \n",
      "\n",
      "   Gal Units2  Total Flow2  Concentrate  Gal Units3  ...  Month_July  \\\n",
      "3        2277        2.277      5184502      1271.0  ...           0   \n",
      "4        2283        2.283      5185769      1267.0  ...           0   \n",
      "5        2281        2.281      5187049      1280.0  ...           0   \n",
      "6        2279        2.279      5188309      1260.0  ...           0   \n",
      "7        2275        2.275      5189565      1256.0  ...           0   \n",
      "\n",
      "   Month_June  Month_March  Month_May  Month_November  Month_October  \\\n",
      "3           0            0          0               0              0   \n",
      "4           0            0          0               0              0   \n",
      "5           0            0          0               0              0   \n",
      "6           0            0          0               0              0   \n",
      "7           0            0          0               0              0   \n",
      "\n",
      "   Month_September  flows_Lag_1  flows_Lag_2  flows_Lag_3  \n",
      "3                0        8.341        8.313        8.365  \n",
      "4                0        8.318        8.341        8.313  \n",
      "5                0        8.319        8.318        8.341  \n",
      "6                0        8.294        8.319        8.318  \n",
      "7                0        8.294        8.294        8.319  \n",
      "\n",
      "[5 rows x 29 columns]\n"
     ]
    }
   ],
   "source": [
    "# Create lag variables\n",
    "n_lags = 3\n",
    "\n",
    "# Create lagged features for \"Water Flows\"\n",
    "for i in range(1, n_lags + 1):\n",
    "    col_name = f'flows_Lag_{i}'\n",
    "    flow[col_name] = flow['Total Flow4'].shift(i)\n",
    "\n",
    "# Remove the rows with NaN values generated by shifting\n",
    "flow.dropna(inplace=True)\n",
    "\n",
    "# Show the first few rows to confirm\n",
    "print(flow.head())"
   ]
  },
  {
   "cell_type": "code",
   "execution_count": 24,
   "id": "8a8568f9",
   "metadata": {},
   "outputs": [
    {
     "name": "stdout",
     "output_type": "stream",
     "text": [
      "   Year       KWH  Billed $     $/KWH  Water Kgal  KWH/Kgal  \\\n",
      "3  2017  769057.0  56103.62  0.072951    217626.0  3.533847   \n",
      "4  2017  794757.0  58179.68  0.073204    271849.0  2.923524   \n",
      "5  2017  987154.0  93261.56  0.094475    250467.0  3.941254   \n",
      "6  2017  850185.0  89740.36  0.105554    255110.0  3.332621   \n",
      "7  2017  847592.0  89147.44  0.105177    253356.0  3.345459   \n",
      "\n",
      "   E Billed per Kgal       Date  Month_Aug  Month_Dec  ...  Month_Jul  \\\n",
      "3           0.257798 2017-04-01          0          0  ...          0   \n",
      "4           0.214015 2017-05-01          0          0  ...          0   \n",
      "5           0.372351 2017-06-01          0          0  ...          0   \n",
      "6           0.351771 2017-07-01          0          0  ...          1   \n",
      "7           0.351866 2017-08-01          1          0  ...          0   \n",
      "\n",
      "   Month_Jun  Month_Mar  Month_May  Month_Nov  Month_Oct  Month_Sep  \\\n",
      "3          0          0          0          0          0          0   \n",
      "4          0          0          1          0          0          0   \n",
      "5          1          0          0          0          0          0   \n",
      "6          0          0          0          0          0          0   \n",
      "7          0          0          0          0          0          0   \n",
      "\n",
      "   energy_Lag_1  energy_Lag_2  energy_Lag_3  \n",
      "3      637308.0      384347.0      408581.0  \n",
      "4      769057.0      637308.0      384347.0  \n",
      "5      794757.0      769057.0      637308.0  \n",
      "6      987154.0      794757.0      769057.0  \n",
      "7      850185.0      987154.0      794757.0  \n",
      "\n",
      "[5 rows x 24 columns]\n"
     ]
    }
   ],
   "source": [
    "# Create lag variables\n",
    "n_lags = 3\n",
    "\n",
    "# Create lagged features for \"Energy Consumption\"\n",
    "for i in range(1, n_lags + 1):\n",
    "    col_name = f'energy_Lag_{i}'\n",
    "    energy[col_name] = energy['KWH'].shift(i)\n",
    "\n",
    "# Remove the rows with NaN values generated by shifting\n",
    "energy.dropna(inplace=True)\n",
    "\n",
    "# Show the first few rows to confirm\n",
    "print(energy.head())"
   ]
  },
  {
   "cell_type": "code",
   "execution_count": 28,
   "id": "774a77c3",
   "metadata": {},
   "outputs": [
    {
     "name": "stdout",
     "output_type": "stream",
     "text": [
      "Training set size: 889\n",
      "Test set size: 889\n"
     ]
    }
   ],
   "source": [
    "# Split sizes for Treated Water\n",
    "train_size = int(len(flow) * 0.5)  # 50% for training\n",
    "\n",
    "# Train-Test Split\n",
    "train, test = flow[:train_size], flow[train_size:]\n",
    "\n",
    "# Prepare data for machine learning models for actual values\n",
    "\n",
    "# Training data\n",
    "X_train_actual = train.drop(['Date', 'Total Flow4'], axis=1)\n",
    "y_train_treated_actual = train['Total Flow4']\n",
    "\n",
    "# Test data\n",
    "X_test_actual = test.drop(['Date', 'Total Flow4'], axis=1)\n",
    "y_test_treated_actual = test['Total Flow4']\n",
    "\n",
    "print(\"Training set size:\", len(X_train_actual))\n",
    "print(\"Test set size:\", len(X_test_actual))"
   ]
  },
  {
   "cell_type": "code",
   "execution_count": 25,
   "id": "3b70e398",
   "metadata": {},
   "outputs": [
    {
     "name": "stdout",
     "output_type": "stream",
     "text": [
      "Training set size: 42\n",
      "Test set size: 43\n"
     ]
    }
   ],
   "source": [
    "# Split sizes for Energy Consumption\n",
    "train_size_energy = int(len(energy) * 0.5)  # 50% for training\n",
    "\n",
    "# Train-Test Split\n",
    "train_energy, test_energy = energy[:train_size_energy], energy[train_size_energy:]\n",
    "\n",
    "# Prepare data for machine learning models for actual values\n",
    "\n",
    "# Training data\n",
    "X_train_actual_energy = train_energy.drop(['Date', 'KWH'], axis=1)\n",
    "y_train_actual_energy = train_energy['KWH']\n",
    "\n",
    "# Test data\n",
    "X_test_actual_energy = test_energy.drop(['Date', 'KWH'], axis=1)\n",
    "y_test_actual_energy = test_energy['KWH']\n",
    "\n",
    "print(\"Training set size:\", len(X_train_actual_energy))\n",
    "print(\"Test set size:\", len(X_test_actual_energy))\n"
   ]
  },
  {
   "cell_type": "code",
   "execution_count": 26,
   "id": "b4b4cd3a",
   "metadata": {},
   "outputs": [],
   "source": [
    "# Importing required libraries\n",
    "import pandas as pd\n",
    "import numpy as np\n",
    "from sklearn.ensemble import RandomForestRegressor, GradientBoostingRegressor\n",
    "from sklearn.metrics import mean_squared_error, mean_absolute_error\n",
    "from sklearn.model_selection import train_test_split\n",
    "from statsmodels.tsa.statespace.sarimax import SARIMAX\n",
    "from math import sqrt"
   ]
  },
  {
   "cell_type": "code",
   "execution_count": 29,
   "id": "432f9cc8",
   "metadata": {},
   "outputs": [
    {
     "name": "stderr",
     "output_type": "stream",
     "text": [
      "C:\\Users\\User\\anaconda3\\lib\\site-packages\\statsmodels\\tsa\\base\\tsa_model.py:471: ValueWarning: An unsupported index was provided and will be ignored when e.g. forecasting.\n",
      "  self._init_dates(dates, freq)\n",
      "C:\\Users\\User\\anaconda3\\lib\\site-packages\\statsmodels\\tsa\\base\\tsa_model.py:471: ValueWarning: An unsupported index was provided and will be ignored when e.g. forecasting.\n",
      "  self._init_dates(dates, freq)\n"
     ]
    }
   ],
   "source": [
    "# Machine Learning Model Training for Treated Water\n",
    "rf_model_treated = RandomForestRegressor()\n",
    "rf_model_treated.fit(X_train_actual, y_train_treated_actual)\n",
    "\n",
    "gb_model_treated = GradientBoostingRegressor()\n",
    "gb_model_treated.fit(X_train_actual, y_train_treated_actual)\n",
    "\n",
    "# SARIMA Model Training for Treated Water\n",
    "try:\n",
    "    sarima_model_treated = SARIMAX(y_train_treated_actual, order=(1, 1, 1), seasonal_order=(1, 1, 1, 12))\n",
    "    sarima_fit_treated = sarima_model_treated.fit(disp=False)\n",
    "except Exception as e:\n",
    "    print(\"Error fitting SARIMA model for Treated Water:\", str(e))"
   ]
  },
  {
   "cell_type": "code",
   "execution_count": 30,
   "id": "5d3a9354",
   "metadata": {},
   "outputs": [
    {
     "name": "stderr",
     "output_type": "stream",
     "text": [
      "C:\\Users\\User\\anaconda3\\lib\\site-packages\\statsmodels\\tsa\\base\\tsa_model.py:471: ValueWarning: An unsupported index was provided and will be ignored when e.g. forecasting.\n",
      "  self._init_dates(dates, freq)\n",
      "C:\\Users\\User\\anaconda3\\lib\\site-packages\\statsmodels\\tsa\\base\\tsa_model.py:471: ValueWarning: An unsupported index was provided and will be ignored when e.g. forecasting.\n",
      "  self._init_dates(dates, freq)\n",
      "C:\\Users\\User\\anaconda3\\lib\\site-packages\\statsmodels\\tsa\\statespace\\sarimax.py:866: UserWarning: Too few observations to estimate starting parameters for seasonal ARMA. All parameters except for variances will be set to zeros.\n",
      "  warn('Too few observations to estimate starting parameters%s.'\n"
     ]
    }
   ],
   "source": [
    "# Machine Learning Model Training for Energy Consumption\n",
    "rf_model_energy = RandomForestRegressor()\n",
    "rf_model_energy.fit(X_train_actual_energy, y_train_actual_energy)\n",
    "\n",
    "gb_model_energy = GradientBoostingRegressor()\n",
    "gb_model_energy.fit(X_train_actual_energy, y_train_actual_energy)\n",
    "\n",
    "\n",
    "# SARIMA Model Training for Energy Consumption\n",
    "try:\n",
    "    sarima_model_energy = SARIMAX(y_train_actual_energy, order=(1, 1, 1), seasonal_order=(1, 1, 1, 12))\n",
    "    sarima_fit_energy = sarima_model_energy.fit(disp=False)\n",
    "except Exception as e:\n",
    "    print(\"Error fitting SARIMA model for Energy Consumption:\", str(e))"
   ]
  },
  {
   "cell_type": "code",
   "execution_count": 31,
   "id": "c5adbc0a",
   "metadata": {},
   "outputs": [
    {
     "name": "stderr",
     "output_type": "stream",
     "text": [
      "C:\\Users\\User\\anaconda3\\lib\\site-packages\\statsmodels\\tsa\\base\\tsa_model.py:834: ValueWarning: No supported index is available. Prediction results will be given with an integer index beginning at `start`.\n",
      "  return get_prediction_index(\n"
     ]
    }
   ],
   "source": [
    "# Predictions using Random Forest\n",
    "rf_pred_flow = rf_model_treated.predict(X_test_actual)\n",
    "\n",
    "# Predictions using Gradient Boosting\n",
    "gb_pred_flow = gb_model_treated.predict(X_test_actual)\n",
    "\n",
    "# Predictions using SARIMA\n",
    "start_point_flow = len(y_train_treated_actual)\n",
    "end_point_flow = start_point_flow + len(X_test_actual) - 1\n",
    "sarima_pred_flow = sarima_fit_treated.predict(start=start_point_flow, end=end_point_flow)\n",
    "\n",
    "# Ensemble Predictions for Treated Water\n",
    "flow_outputs = [rf_pred_flow, gb_pred_flow, sarima_pred_flow]\n",
    "ensemble_pred_flow = np.mean(flow_outputs, axis=0)\n"
   ]
  },
  {
   "cell_type": "code",
   "execution_count": 32,
   "id": "fdd1dc28",
   "metadata": {},
   "outputs": [
    {
     "name": "stderr",
     "output_type": "stream",
     "text": [
      "C:\\Users\\User\\anaconda3\\lib\\site-packages\\statsmodels\\tsa\\base\\tsa_model.py:834: ValueWarning: No supported index is available. Prediction results will be given with an integer index beginning at `start`.\n",
      "  return get_prediction_index(\n"
     ]
    }
   ],
   "source": [
    "# Predictions using Random Forest\n",
    "rf_pred_energy = rf_model_energy.predict(X_test_actual_energy)\n",
    "\n",
    "# Predictions using Gradient Boosting\n",
    "gb_pred_energy = gb_model_energy.predict(X_test_actual_energy)\n",
    "\n",
    "# Predictions using SARIMA Model\n",
    "start_point_energy = len(y_train_actual_energy)\n",
    "end_point_energy = start_point_energy + len(X_test_actual_energy) - 1\n",
    "sarima_pred_energy = sarima_fit_energy.predict(start=start_point_energy, end=end_point_energy)\n",
    "\n",
    "# Ensemble Predictions for Energy Consumption\n",
    "energy_outputs = [rf_pred_energy, gb_pred_energy, sarima_pred_energy]\n",
    "ensemble_pred_energy = np.mean(energy_outputs, axis=0)\n"
   ]
  },
  {
   "cell_type": "code",
   "execution_count": 33,
   "id": "60ba5620",
   "metadata": {},
   "outputs": [],
   "source": [
    "def error(y_true, y_pred, threshold=0.5):\n",
    "    \"\"\"\n",
    "    Calculate the error rate based on a given threshold.\n",
    "    The function returns the proportion of predictions that are off by more than the threshold.\n",
    "    \"\"\"\n",
    "    return np.mean(np.abs(y_true - y_pred) > threshold)"
   ]
  },
  {
   "cell_type": "code",
   "execution_count": 34,
   "id": "c7e92084",
   "metadata": {},
   "outputs": [
    {
     "name": "stdout",
     "output_type": "stream",
     "text": [
      "Evaluations for Water Flow:\n",
      "\n",
      "=== Random Forest ===\n",
      "RMSE: 1.2590\n",
      "MAE: 0.4772\n",
      "Error Rate: 0.1507\n",
      "\n",
      "=== Gradient Boosting ===\n",
      "RMSE: 0.9529\n",
      "MAE: 0.3934\n",
      "Error Rate: 0.2070\n",
      "\n",
      "=== SARIMA ===\n",
      "RMSE: 6.4837\n",
      "MAE: 5.5620\n",
      "Error Rate: 0.9395\n",
      "\n",
      "=== Ensemble ===\n",
      "RMSE: 2.6108\n",
      "MAE: 2.0241\n",
      "Error Rate: 0.8695\n",
      "\n",
      "Evaluations for Energy Consumption:\n",
      "\n",
      "=== Random Forest ===\n",
      "RMSE: 665443.2633\n",
      "MAE: 550343.4792\n",
      "Error Rate: 1.0000\n",
      "\n",
      "=== Gradient Boosting ===\n",
      "RMSE: 616283.7353\n",
      "MAE: 504401.1845\n",
      "Error Rate: 1.0000\n",
      "\n",
      "=== SARIMA ===\n",
      "RMSE: 759367.7005\n",
      "MAE: 555713.9907\n",
      "Error Rate: 0.8298\n",
      "\n",
      "=== Ensemble ===\n",
      "RMSE: 607133.6043\n",
      "MAE: 494003.6671\n",
      "Error Rate: 1.0000\n",
      "\n"
     ]
    }
   ],
   "source": [
    "from sklearn.metrics import mean_squared_error, mean_absolute_error\n",
    "from math import sqrt\n",
    "import numpy as np\n",
    "\n",
    "def evaluate_predictions(y_true, y_pred, model_name):\n",
    "    \"\"\"\n",
    "    Evaluate and print RMSE, MAE, and Error Rate for a given model's predictions.\n",
    "    \"\"\"\n",
    "    rmse = sqrt(mean_squared_error(y_true, y_pred))\n",
    "    mae = mean_absolute_error(y_true, y_pred)\n",
    "    err_rate = error(y_true, y_pred)\n",
    "    \n",
    "    print(f\"=== {model_name} ===\")\n",
    "    print(f\"RMSE: {rmse:.4f}\")\n",
    "    print(f\"MAE: {mae:.4f}\")\n",
    "    print(f\"Error Rate: {err_rate:.4f}\\n\")\n",
    "    return rmse, mae, err_rate\n",
    "\n",
    "def main():\n",
    "    # Evaluating Water Flow Predictions\n",
    "    print(\"Evaluations for Water Flow:\\n\")\n",
    "    evaluate_predictions(y_test_treated_actual, rf_pred_flow, \"Random Forest\")\n",
    "    evaluate_predictions(y_test_treated_actual, gb_pred_flow, \"Gradient Boosting\")\n",
    "    evaluate_predictions(y_test_treated_actual, sarima_pred_flow, \"SARIMA\")\n",
    "    evaluate_predictions(y_test_treated_actual, ensemble_pred_flow, \"Ensemble\")\n",
    "    \n",
    "    # Evaluating Energy Consumption Predictions\n",
    "    print(\"Evaluations for Energy Consumption:\\n\")\n",
    "    evaluate_predictions(y_test_actual_energy, rf_pred_energy, \"Random Forest\")\n",
    "    evaluate_predictions(y_test_actual_energy, gb_pred_energy, \"Gradient Boosting\")\n",
    "    evaluate_predictions(y_test_actual_energy, sarima_pred_energy, \"SARIMA\")\n",
    "    evaluate_predictions(y_test_actual_energy, ensemble_pred_energy, \"Ensemble\")\n",
    "\n",
    "# Run the evaluations\n",
    "main()"
   ]
  }
 ],
 "metadata": {
  "kernelspec": {
   "display_name": "Python 3 (ipykernel)",
   "language": "python",
   "name": "python3"
  },
  "language_info": {
   "codemirror_mode": {
    "name": "ipython",
    "version": 3
   },
   "file_extension": ".py",
   "mimetype": "text/x-python",
   "name": "python",
   "nbconvert_exporter": "python",
   "pygments_lexer": "ipython3",
   "version": "3.9.13"
  }
 },
 "nbformat": 4,
 "nbformat_minor": 5
}
